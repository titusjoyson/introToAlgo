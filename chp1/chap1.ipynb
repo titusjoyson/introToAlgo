{
 "metadata": {
  "language_info": {
   "codemirror_mode": {
    "name": "ipython",
    "version": 3
   },
   "file_extension": ".py",
   "mimetype": "text/x-python",
   "name": "python",
   "nbconvert_exporter": "python",
   "pygments_lexer": "ipython3",
   "version": "3.8.5-final"
  },
  "orig_nbformat": 2,
  "kernelspec": {
   "name": "python38532bitvenvvenvfdcf18d5fcee444f8e37c39356d61f10",
   "display_name": "Python 3.8.5 32-bit ('.venv': venv)"
  }
 },
 "nbformat": 4,
 "nbformat_minor": 2,
 "cells": [
  {
   "cell_type": "code",
   "execution_count": 137,
   "metadata": {},
   "outputs": [],
   "source": [
    "# inserstion sort runs in cn^2\n",
    "# merge sort runs in cn lg n\n",
    "import math\n",
    "import pandas as pd"
   ]
  },
  {
   "cell_type": "code",
   "execution_count": 98,
   "metadata": {
    "tags": []
   },
   "outputs": [
    {
     "output_type": "stream",
     "name": "stdout",
     "text": "When n is from 2 to 43 insertion sort beats merge sort\n"
    }
   ],
   "source": [
    "# exercise 1.2-2\n",
    "# Suppose we are comparing implementations of insertion sort and merge sort on the\n",
    "# same machine. For inputs of size n, insertion sort runs in 8n2 steps, while merge\n",
    "# sort runs in 64n lg n steps. For which values of n does insertion sort beat merge\n",
    "# sort?\n",
    "\n",
    "def insert(n):\n",
    "    # 8n2\n",
    "    return 8 * math.pow(n, 2)\n",
    "\n",
    "def merge(n):\n",
    "    # 64n lg n\n",
    "    return 64 * n * math.log(n, 2)\n",
    "\n",
    "def insertion_sort_beats_merge(n: int) -> bool:\n",
    "    # less value means faster\n",
    "    if insert(n) < merge(n):\n",
    "        return True\n",
    "    else:\n",
    "        return False\n",
    "\n",
    "# why range starts from 2 ?\n",
    "# Merge Sort is a Divide and Conquer algorithm. It divides input array in two halves, \n",
    "# calls itself for the two halves and then merges the two sorted halves. \n",
    "for n in range(2, 50):\n",
    "    result = insertion_sort_beats_merge(n)\n",
    "    if not result:\n",
    "        # why n - 1 ?\n",
    "        # Current value is n and previous value is n - 1 if the function \n",
    "        # insertion_sort_beats_merge failes that mean the previous value(n - 1) of n\n",
    "        # beats merge sort and not the current(n) value\n",
    "        print(\"When n is from 2 to\", n - 1, \"insertion sort beats merge sort\")\n",
    "        break\n"
   ]
  },
  {
   "cell_type": "code",
   "execution_count": 143,
   "metadata": {
    "tags": []
   },
   "outputs": [
    {
     "output_type": "stream",
     "name": "stdout",
     "text": "The smallest value of n is 15\n"
    }
   ],
   "source": [
    "# excerise 1.2-3\n",
    "\n",
    "# What is the smallest value of n such that an algorithm whose running time is 100n^2\n",
    "# runs faster than an algorithm whose running time is 2^n on the same machine?\n",
    "\n",
    "def smallest_value_of_n(n: int) -> None:\n",
    "    algorithum_1_run_time = 100 *  math.pow(n, 2) # 100n^2\n",
    "    algorithum_2_run_time = math.pow(2, n) # 2^n\n",
    "\n",
    "    if algorithum_1_run_time < algorithum_2_run_time:\n",
    "        return n\n",
    "\n",
    "for n in range(1, 100):\n",
    "    result = smallest_value_of_n(n)\n",
    "    if result:\n",
    "        print(\"The smallest value of n is\", result)\n",
    "        break"
   ]
  },
  {
   "cell_type": "code",
   "execution_count": 144,
   "metadata": {},
   "outputs": [
    {
     "output_type": "execute_result",
     "data": {
      "text/plain": "       1 second 1 minute 1 hour 1 day 1 month 1 year 1 century\nlg n        NaN      NaN    NaN   NaN     NaN    NaN       NaN\n√n          NaN      NaN    NaN   NaN     NaN    NaN       NaN\nn           NaN      NaN    NaN   NaN     NaN    NaN       NaN\nn lg n      NaN      NaN    NaN   NaN     NaN    NaN       NaN\nn^2         NaN      NaN    NaN   NaN     NaN    NaN       NaN\nn^3         NaN      NaN    NaN   NaN     NaN    NaN       NaN\n2^n         NaN      NaN    NaN   NaN     NaN    NaN       NaN\nn!          NaN      NaN    NaN   NaN     NaN    NaN       NaN",
      "text/html": "<div>\n<style scoped>\n    .dataframe tbody tr th:only-of-type {\n        vertical-align: middle;\n    }\n\n    .dataframe tbody tr th {\n        vertical-align: top;\n    }\n\n    .dataframe thead th {\n        text-align: right;\n    }\n</style>\n<table border=\"1\" class=\"dataframe\">\n  <thead>\n    <tr style=\"text-align: right;\">\n      <th></th>\n      <th>1 second</th>\n      <th>1 minute</th>\n      <th>1 hour</th>\n      <th>1 day</th>\n      <th>1 month</th>\n      <th>1 year</th>\n      <th>1 century</th>\n    </tr>\n  </thead>\n  <tbody>\n    <tr>\n      <th>lg n</th>\n      <td>NaN</td>\n      <td>NaN</td>\n      <td>NaN</td>\n      <td>NaN</td>\n      <td>NaN</td>\n      <td>NaN</td>\n      <td>NaN</td>\n    </tr>\n    <tr>\n      <th>√n</th>\n      <td>NaN</td>\n      <td>NaN</td>\n      <td>NaN</td>\n      <td>NaN</td>\n      <td>NaN</td>\n      <td>NaN</td>\n      <td>NaN</td>\n    </tr>\n    <tr>\n      <th>n</th>\n      <td>NaN</td>\n      <td>NaN</td>\n      <td>NaN</td>\n      <td>NaN</td>\n      <td>NaN</td>\n      <td>NaN</td>\n      <td>NaN</td>\n    </tr>\n    <tr>\n      <th>n lg n</th>\n      <td>NaN</td>\n      <td>NaN</td>\n      <td>NaN</td>\n      <td>NaN</td>\n      <td>NaN</td>\n      <td>NaN</td>\n      <td>NaN</td>\n    </tr>\n    <tr>\n      <th>n^2</th>\n      <td>NaN</td>\n      <td>NaN</td>\n      <td>NaN</td>\n      <td>NaN</td>\n      <td>NaN</td>\n      <td>NaN</td>\n      <td>NaN</td>\n    </tr>\n    <tr>\n      <th>n^3</th>\n      <td>NaN</td>\n      <td>NaN</td>\n      <td>NaN</td>\n      <td>NaN</td>\n      <td>NaN</td>\n      <td>NaN</td>\n      <td>NaN</td>\n    </tr>\n    <tr>\n      <th>2^n</th>\n      <td>NaN</td>\n      <td>NaN</td>\n      <td>NaN</td>\n      <td>NaN</td>\n      <td>NaN</td>\n      <td>NaN</td>\n      <td>NaN</td>\n    </tr>\n    <tr>\n      <th>n!</th>\n      <td>NaN</td>\n      <td>NaN</td>\n      <td>NaN</td>\n      <td>NaN</td>\n      <td>NaN</td>\n      <td>NaN</td>\n      <td>NaN</td>\n    </tr>\n  </tbody>\n</table>\n</div>"
     },
     "metadata": {},
     "execution_count": 144
    }
   ],
   "source": [
    "# Problem 1-1\n",
    "# For each function f(n) and time t in the following table, determine the\n",
    "# largest size n of a problem that can be solved in time t assuming that the\n",
    "# algorithm to solve the problem takes f(n) microseconds. Recall that log n\n",
    "# denotes the logarithm in base 2 of n.\n",
    "\n",
    "# lg n - log base 2 of n\n",
    "\n",
    "row = [\"lg n\", \"√n\", \"n\", \"n lg n\", \"n^2\", \"n^3\", \"2^n\", \"n!\"]\n",
    "column = [\"1 second\", \"1 minute\", \"1 hour\", \"1 day\", \"1 month\", \"1 year\", \"1 century\"]\n",
    "data = []\n",
    "df = pd.DataFrame(data=data,index=row, columns=column)\n",
    "df\n"
   ]
  },
  {
   "cell_type": "code",
   "execution_count": 148,
   "metadata": {
    "tags": []
   },
   "outputs": [],
   "source": [
    "# Solution\n",
    "\n",
    "# First recall that a microsecond is 10^−6 seconds. Hence, one second = 10^6 microseconds\n",
    "\n",
    "one_second = 1000000 # microseconds\n",
    "one_minute = one_second * 60 # 60000000\n",
    "one_hour = one_minute * 60 # 3600000000\n",
    "one_day = one_hour * 24 # 86400000000\n",
    "one_month = one_day * 30 # (assume a month has 30 days) 2592000000000\n",
    "one_year = one_day * 365 # 31536000000000\n",
    "one_century = one_year * 100 # 3153600000000000\n",
    "\n",
    "def lg(n):\n",
    "    return math.log(n, 2) * n\n",
    "\n",
    "def sq_root(n):\n",
    "    return math.sqrt(n)\n",
    "\n",
    "def f(n):\n",
    "    return n\n",
    "\n",
    "def n_lg(n):\n",
    "    return n * lg(n)\n",
    "\n",
    "def p2(n):\n",
    "    return math.pow(n, 2)\n",
    "\n",
    "def p3(n):\n",
    "    return math.pow(n, 3)\n",
    "\n",
    "def two_p(n):\n",
    "    return math.pwe(2, n)\n",
    "\n",
    "def factorial(n):\n",
    "    return math.factorial(n)\n",
    "\n",
    "# Now, if we have an algorithm that runs in f(n) steps given an input of\n",
    "# size n and, for example, f(899) ≤ 106\n",
    "# that means that inputs of size 899\n",
    "# can be processed in less than one second. This problem asks us to find\n",
    "# the input of largest size that can be processed in one second, one hour,\n",
    "# etc given different running times f(n).\n",
    "# That is, to determine the largest problem that can be done in one second,\n",
    "# for example, we have to determine the largest n such that f(n) ≤ 1000000\n",
    "\n",
    "# WIP"
   ]
  }
 ]
}