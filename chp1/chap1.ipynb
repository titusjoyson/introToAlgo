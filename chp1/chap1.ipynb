{
 "metadata": {
  "language_info": {
   "codemirror_mode": {
    "name": "ipython",
    "version": 3
   },
   "file_extension": ".py",
   "mimetype": "text/x-python",
   "name": "python",
   "nbconvert_exporter": "python",
   "pygments_lexer": "ipython3",
   "version": "3.8.5-final"
  },
  "orig_nbformat": 2,
  "kernelspec": {
   "name": "python38532bitvenvvenvfdcf18d5fcee444f8e37c39356d61f10",
   "display_name": "Python 3.8.5 32-bit ('.venv': venv)"
  }
 },
 "nbformat": 4,
 "nbformat_minor": 2,
 "cells": [
  {
   "cell_type": "code",
   "execution_count": 57,
   "metadata": {},
   "outputs": [],
   "source": [
    "# inserstion sort runs in cn^2\n",
    "# merge sort runs in cn lg n\n",
    "import math"
   ]
  },
  {
   "cell_type": "code",
   "execution_count": 98,
   "metadata": {
    "tags": []
   },
   "outputs": [
    {
     "output_type": "stream",
     "name": "stdout",
     "text": "When n is from 2 to 43 insertion sort beats merge sort\n"
    }
   ],
   "source": [
    "# exercise 1.2-2\n",
    "# Suppose we are comparing implementations of insertion sort and merge sort on the\n",
    "# same machine. For inputs of size n, insertion sort runs in 8n2 steps, while merge\n",
    "# sort runs in 64n lg n steps. For which values of n does insertion sort beat merge\n",
    "# sort?\n",
    "\n",
    "def insert(n):\n",
    "    # 8n2\n",
    "    return 8 * math.pow(n, 2)\n",
    "\n",
    "def merge(n):\n",
    "    # 64n lg n\n",
    "    return 64 * n * math.log(n, 2)\n",
    "\n",
    "def insertion_sort_beats_merge(n: int) -> bool:\n",
    "    # less value means faster\n",
    "    if insert(n) < merge(n):\n",
    "        return True\n",
    "    else:\n",
    "        return False\n",
    "\n",
    "# why range starts from 2 ?\n",
    "# Merge Sort is a Divide and Conquer algorithm. It divides input array in two halves, \n",
    "# calls itself for the two halves and then merges the two sorted halves. \n",
    "for n in range(2, 50):\n",
    "    result = insertion_sort_beats_merge(n)\n",
    "    if not result:\n",
    "        # why n - 1 ?\n",
    "        # Current value is n and previous value is n - 1 if the function \n",
    "        # insertion_sort_beats_merge failes that mean the previous value(n - 1) of n\n",
    "        # beats merge sort and not the current(n) value\n",
    "        print(\"When n is from 2 to\", n - 1, \"insertion sort beats merge sort\")\n",
    "        break\n"
   ]
  },
  {
   "cell_type": "code",
   "execution_count": null,
   "metadata": {},
   "outputs": [],
   "source": [
    "# excerise 1.2-3\n",
    "\n",
    "# What is the smallest value of n such that an algorithm whose running time is 100n2\n",
    "# runs faster than an algorithm whose running time is 2n on the same machine?\n",
    "\n",
    "def smallest_value_of_n(n: int) -> None:\n",
    "    algorithum_1_run_time = (100 * n) * n # 100n^2\n",
    "    algorithum_2_run_time = 2^n\n",
    "\n",
    "    if algorithum_2_run_time < algorithum_1_run_time:\n",
    "        return algorithum_2_run_time"
   ]
  }
 ]
}