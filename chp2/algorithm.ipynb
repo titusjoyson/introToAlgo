{
 "metadata": {
  "language_info": {
   "codemirror_mode": {
    "name": "ipython",
    "version": 3
   },
   "file_extension": ".py",
   "mimetype": "text/x-python",
   "name": "python",
   "nbconvert_exporter": "python",
   "pygments_lexer": "ipython3",
   "version": "3.8.5-final"
  },
  "orig_nbformat": 2,
  "kernelspec": {
   "name": "python38532bitvenv1d37109eda924eb6b9393f09db47f32f",
   "display_name": "Python 3.8.5 32-bit ('.venv')"
  }
 },
 "nbformat": 4,
 "nbformat_minor": 2,
 "cells": [
  {
   "cell_type": "code",
   "execution_count": 21,
   "metadata": {
    "tags": []
   },
   "outputs": [
    {
     "output_type": "stream",
     "name": "stdout",
     "text": "step 1\nkey 2\ninput_list[i+1] 2\ninput_list[i] 5\n\n\nstep 2\nkey 1\ninput_list[i+1] 1\ninput_list[i] 5\n\n\nstep 3\nkey 1\ninput_list[i+1] 5\ninput_list[i] 2\n\n\nstep 4\nkey 4\ninput_list[i+1] 4\ninput_list[i] 7\n\n\nstep 5\nkey 4\ninput_list[i+1] 7\ninput_list[i] 5\n\n\nstep 6\nkey 2\ninput_list[i+1] 2\ninput_list[i] 7\n\n\nstep 7\nkey 2\ninput_list[i+1] 7\ninput_list[i] 5\n\n\nstep 8\nkey 2\ninput_list[i+1] 5\ninput_list[i] 4\n\n\nstep 9\nkey 0\ninput_list[i+1] 0\ninput_list[i] 7\n\n\nstep 10\nkey 0\ninput_list[i+1] 7\ninput_list[i] 5\n\n\nstep 11\nkey 0\ninput_list[i+1] 5\ninput_list[i] 4\n\n\nstep 12\nkey 0\ninput_list[i+1] 4\ninput_list[i] 2\n\n\nstep 13\nkey 0\ninput_list[i+1] 2\ninput_list[i] 2\n\n\nstep 14\nkey 0\ninput_list[i+1] 2\ninput_list[i] 1\n\n\ninput: [0, 1, 2, 2, 4, 5, 7]\noutput: [0, 1, 2, 2, 4, 5, 7]\n"
    }
   ],
   "source": [
    "# insertion sort - run time = c * n^2\n",
    "\n",
    "# short explanation: Consider the input_list as deck of playing cards and each item in the \n",
    "# list a card.. In sertion sort works the way people sort a hand of playing cards. \n",
    "# We start with empty left hand and the cards face down on the table(right hand). We then remove one card at\n",
    "# a time from the table and insert it into the correct position in the left hand, from right to left.\n",
    "# At all the time cards at the left hand side are sorted, and these cards where orginally the top\n",
    "# cards of the pile on the table.\n",
    "\n",
    "# input [5,2,7,4,2,0]\n",
    "def insertion_sort(input_list: list, reverse: bool = False) -> list:\n",
    "    if len(input_list) < 1:\n",
    "        return input_list\n",
    "    # before starting the itration\n",
    "    # [5] - left hand side, [2,7,4,2,0] - right hand side\n",
    "    # so j points to the index 1 with the value 2\n",
    "    for j in range(1, len(input_list)):\n",
    "        # key - first element(or card) from the right hand side\n",
    "        key = input_list[j]\n",
    "        # insert input_list[j] into the sorted sequence input_list[1 .. j-1] (left side)\n",
    "        i = j - 1\n",
    "        # this while loops shifts the cards in the left side so the current card key can be placed in\n",
    "        # correct positin in the left side\n",
    "        while i >= 0 and input_list[i] > key:\n",
    "            # inorder to itrate throught the sorted sequence in left hand side from right to left \n",
    "            # we reduce one index from i\n",
    "            # consider the card we picked from right hand side is in index(j) which is 3 with value 4 from input [5,2,7,4,2,0]\n",
    "            # then in the first itration we will check value 4(i=3) with 7(i=2) and in the next itration we check 4(i=3) with 2(i=1)\n",
    "            # like wise the process continues.\n",
    "\n",
    "            # Note: in the first while itration input_list[i+1] is the place where key is from\n",
    "\n",
    "            # shifting process\n",
    "            input_list[i+1] = input_list[i]\n",
    "            i = i - 1\n",
    "            # i is the empty spot\n",
    "            \n",
    "        # place the picked card in the emty slot that we made availave using the while loop\n",
    "        input_list[i+1] = key\n",
    "    \n",
    "    # note: the outer for loop handles pickting the card from right hand side \n",
    "    # and the inner handils inserting them in the left hand side\n",
    "    if reverse:\n",
    "        input_list.reverse()\n",
    "    return input_list\n",
    "\n",
    "input_list = [5,2,1,7,4,2,0]\n",
    "result = insertion_sort(input_list)\n",
    "\n",
    "print(\"input:\", input_list)\n",
    "print(\"output:\", result)\n"
   ]
  },
  {
   "cell_type": "code",
   "execution_count": null,
   "metadata": {},
   "outputs": [],
   "source": []
  }
 ]
}